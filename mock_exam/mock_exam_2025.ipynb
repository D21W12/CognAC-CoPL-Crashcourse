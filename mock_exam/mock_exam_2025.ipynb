{
 "cells": [
  {
   "metadata": {
    "ExecuteTime": {
     "end_time": "2025-04-02T09:51:49.067562Z",
     "start_time": "2025-04-02T09:51:49.062407Z"
    }
   },
   "cell_type": "code",
   "source": "from mock_exam.answers_mock_exam_2025 import *",
   "id": "27c176ad91a8864f",
   "outputs": [],
   "execution_count": 4
  },
  {
   "cell_type": "code",
   "id": "initial_id",
   "metadata": {
    "collapsed": true,
    "ExecuteTime": {
     "end_time": "2025-04-02T09:51:44.591311Z",
     "start_time": "2025-04-02T09:51:44.580619Z"
    }
   },
   "source": [
    "class Recipe:\n",
    "    def __init__(self, name: str):\n",
    "        self.name = name\n",
    "        self._ingredients = []\n",
    "\n",
    "    def add_ingredient(self, ingredient: str, amount: float):\n",
    "        self._ingredients.append((ingredient, amount))\n",
    "\n",
    "    def print_recipe(self):\n",
    "        print(self.name + \":\")\n",
    "        for ingredient in self._ingredients:\n",
    "            print(f\"{ingredient[0]} {ingredient[1]} grams\")"
   ],
   "outputs": [],
   "execution_count": 2
  },
  {
   "metadata": {
    "ExecuteTime": {
     "end_time": "2025-04-02T09:51:45.996103Z",
     "start_time": "2025-04-02T09:51:45.992646Z"
    }
   },
   "cell_type": "code",
   "source": [
    "p1 = Recipe('Salad')\n",
    "p2 = Recipe('Pasta')\n",
    "p1.add_ingredient('Rucula', 12)\n",
    "p1.add_ingredient('Tomatoes', 6)\n",
    "p2.add_ingredient('Olives', 6)"
   ],
   "id": "16fd7894b253efa0",
   "outputs": [],
   "execution_count": 3
  },
  {
   "metadata": {},
   "cell_type": "markdown",
   "source": [
    "<strong>Question 1</strong>\n",
    "\n",
    "Recipe is an instance of the object Recipe\n",
    "\n",
    "<strong>Answer</strong>"
   ],
   "id": "2e894e3cd63f2b17"
  },
  {
   "metadata": {
    "ExecuteTime": {
     "end_time": "2025-04-02T09:46:15.197056Z",
     "start_time": "2025-04-02T09:46:15.018262Z"
    }
   },
   "cell_type": "code",
   "source": "Q1",
   "id": "6835b2414ea8d148",
   "outputs": [
    {
     "ename": "NameError",
     "evalue": "name 'Q1' is not defined",
     "output_type": "error",
     "traceback": [
      "\u001B[0;31m---------------------------------------------------------------------------\u001B[0m",
      "\u001B[0;31mNameError\u001B[0m                                 Traceback (most recent call last)",
      "Cell \u001B[0;32mIn[1], line 1\u001B[0m\n\u001B[0;32m----> 1\u001B[0m \u001B[43mQ1\u001B[49m\n",
      "\u001B[0;31mNameError\u001B[0m: name 'Q1' is not defined"
     ]
    }
   ],
   "execution_count": 1
  },
  {
   "metadata": {},
   "cell_type": "markdown",
   "source": [
    "<strong>Question 2</strong>\n",
    "\n",
    "About the variable p1:\n",
    "\n",
    "A. p1 is an instance of a class\n",
    "\n",
    "B. p1 has private attributes\n",
    "\n",
    "C. p1 is an instance of the object Recipe\n",
    "\n",
    "D. p1 has an encapsulated data attribute name\n",
    "\n",
    "<strong>Answer</strong>"
   ],
   "id": "c373a59291f58ef9"
  },
  {
   "metadata": {},
   "cell_type": "code",
   "source": "Q2",
   "id": "6461e8da7538820d",
   "outputs": [],
   "execution_count": null
  },
  {
   "metadata": {},
   "cell_type": "markdown",
   "source": [
    "<strong>Question 3</strong>\n",
    "\n",
    "About add_ingredient:\n",
    "\n",
    "A. add_ingredient is a class method of p1\n",
    "\n",
    "B. add_ingredient is a class method of Recipe\n",
    "\n",
    "C. add_ingredient can be called before creating any object of the\n",
    "class Recipe\n",
    "\n",
    "D. None of the alternatives\n",
    "\n",
    "<strong>Answer</strong>"
   ],
   "id": "7d67c7a07a7188da"
  },
  {
   "metadata": {},
   "cell_type": "code",
   "source": "Q3",
   "id": "68da1370d1f8ca38",
   "outputs": [],
   "execution_count": null
  },
  {
   "metadata": {},
   "cell_type": "markdown",
   "source": [
    "<strong>Question 4</strong>\n",
    "\n",
    "Question 4. At the end of the program execution:\n",
    "\n",
    "A. p1 and p2 have the same values\n",
    "\n",
    "B. p1 and p2 are different objects but of the same class\n",
    "\n",
    "C. p1 and p2 are have the similar data attributes but different methods\n",
    "\n",
    "D. None of the alternatives\n",
    "\n",
    "<strong>Answer</strong>"
   ],
   "id": "17010f0522a02d95"
  },
  {
   "metadata": {
    "ExecuteTime": {
     "end_time": "2025-04-02T09:51:57.558663Z",
     "start_time": "2025-04-02T09:51:57.554453Z"
    }
   },
   "cell_type": "code",
   "source": [
    "print(p1.__class__)\n",
    "print(p2.__class__)"
   ],
   "id": "e0e3f13322c9e527",
   "outputs": [
    {
     "name": "stdout",
     "output_type": "stream",
     "text": [
      "<class '__main__.Recipe'>\n",
      "<class '__main__.Recipe'>\n"
     ]
    }
   ],
   "execution_count": 5
  },
  {
   "metadata": {
    "ExecuteTime": {
     "end_time": "2025-04-02T09:52:02.608898Z",
     "start_time": "2025-04-02T09:52:02.602008Z"
    }
   },
   "cell_type": "code",
   "source": "Q4",
   "id": "e378f1fd66ab4745",
   "outputs": [
    {
     "data": {
      "text/plain": [
       "'B'"
      ]
     },
     "execution_count": 6,
     "metadata": {},
     "output_type": "execute_result"
    }
   ],
   "execution_count": 6
  },
  {
   "metadata": {},
   "cell_type": "code",
   "source": [
    "class SecretRecipe(Recipe):\n",
    "    def __init__(self, name, password):\n",
    "        super().__init__(name)\n",
    "        self.__password = password\n",
    "    \n",
    "    def add_ingredient(self, ingredient, amount, password):\n",
    "        if password == self.__password:\n",
    "            return super().add_ingredient(ingredient, amount)\n",
    "        else:\n",
    "            raise ValueError\n",
    "    \n",
    "    def print_recipe(self, password):\n",
    "        if password == self.__password:\n",
    "            return super().print_recipe()\n",
    "        else:\n",
    "            raise ValueError"
   ],
   "id": "177a30eae1b06159",
   "outputs": [],
   "execution_count": null
  },
  {
   "metadata": {},
   "cell_type": "markdown",
   "source": [
    "<strong>Question 5</strong>\n",
    "\n",
    "Recipe is a class derived from SecretRecipe\n",
    "\n",
    "<strong>Answer</strong>"
   ],
   "id": "54ab3bf4655dc44"
  },
  {
   "metadata": {},
   "cell_type": "code",
   "source": "Q5",
   "id": "c5b6ded33fda77f6",
   "outputs": [],
   "execution_count": null
  },
  {
   "metadata": {},
   "cell_type": "markdown",
   "source": [
    "<strong>Question 6</strong>\n",
    "\n",
    "The method print_recipe and add_ingredient are examples of:\n",
    "\n",
    "A. Method overriding\n",
    "\n",
    "B. Method/operator overloading\n",
    "\n",
    "C. Encapsulation\n",
    "\n",
    "D. None of the alternatives\n",
    "\n",
    "<strong>Answer</strong>"
   ],
   "id": "550bfa646ec836b8"
  },
  {
   "metadata": {
    "ExecuteTime": {
     "end_time": "2025-04-02T09:55:31.114807Z",
     "start_time": "2025-04-02T09:55:31.104592Z"
    }
   },
   "cell_type": "code",
   "source": "Q6",
   "id": "e23ab9371873433",
   "outputs": [
    {
     "data": {
      "text/plain": [
       "'A'"
      ]
     },
     "execution_count": 7,
     "metadata": {},
     "output_type": "execute_result"
    }
   ],
   "execution_count": 7
  },
  {
   "metadata": {},
   "cell_type": "markdown",
   "source": [
    "<strong>Question 7</strong>\n",
    "\n",
    "SecretRecipe has:\n",
    "\n",
    "A. Private data attributes but no public or protected\n",
    "\n",
    "B. Public data attributes but no private or protected\n",
    "\n",
    "C. Protected data attributes but no private or public ones\n",
    "\n",
    "D. None of the alternatives\n",
    "\n",
    "<strong>Answer</strong>"
   ],
   "id": "124e6afb573ec625"
  },
  {
   "metadata": {
    "ExecuteTime": {
     "end_time": "2025-04-02T09:57:56.697953Z",
     "start_time": "2025-04-02T09:57:56.690537Z"
    }
   },
   "cell_type": "code",
   "source": "Q7",
   "id": "578a05bc84a70e03",
   "outputs": [
    {
     "data": {
      "text/plain": [
       "\"A. It has a private data attribute '__password' and two public data attributes deerived from it's superclass.\""
      ]
     },
     "execution_count": 9,
     "metadata": {},
     "output_type": "execute_result"
    }
   ],
   "execution_count": 9
  },
  {
   "metadata": {},
   "cell_type": "markdown",
   "source": [
    "<strong>Question 8</strong>\n",
    "\n",
    "The constructor of SecretRecipe:\n",
    "\n",
    "A. Receive the same arguments as the constructor of Recipe\n",
    "\n",
    "B. Can be used with 1 or 2 arguments\n",
    "\n",
    "C. Uses the constructor of Recipe\n",
    "\n",
    "D. None of the alternatives\n",
    "\n",
    "<strong>Answer</strong>\n"
   ],
   "id": "8a80a9cede1fa0f0"
  },
  {
   "metadata": {
    "ExecuteTime": {
     "end_time": "2025-04-02T09:59:13.701048Z",
     "start_time": "2025-04-02T09:59:13.687898Z"
    }
   },
   "cell_type": "code",
   "source": "Q8",
   "id": "14fd4814130f5c7d",
   "outputs": [
    {
     "data": {
      "text/plain": [
       "'C. It calls the constructor with super().__init__(name).'"
      ]
     },
     "execution_count": 10,
     "metadata": {},
     "output_type": "execute_result"
    }
   ],
   "execution_count": 10
  },
  {
   "metadata": {},
   "cell_type": "markdown",
   "source": [
    "<strong>Question 9</strong>\n",
    "\n",
    "The keyword super in print_recipe:\n",
    "\n",
    "A. Refers to the constructor of Recipe\n",
    "\n",
    "B. Refers to an object of the class Recipe\n",
    "\n",
    "C. Is a recursive method\n",
    "\n",
    "D. Refers to the base class\n",
    "\n",
    "<strong>Answer</strong>"
   ],
   "id": "ed88866439eb3d43"
  },
  {
   "metadata": {},
   "cell_type": "code",
   "source": "Q9",
   "id": "efac607fe5f71acd",
   "outputs": [],
   "execution_count": null
  },
  {
   "metadata": {},
   "cell_type": "markdown",
   "source": [
    "<strong>Question 10</strong>\n",
    "\n",
    "To change the value of the data attribute __password from\n",
    "outside of the class one could:\n",
    "\n",
    "A. Encapsulate this data attribute with a getter\n",
    "\n",
    "B. Use a @classmethod decorator\n",
    "\n",
    "C. Use the constructor\n",
    "\n",
    "D. None of the alternatives\n",
    "\n",
    "<strong>Answer</strong>"
   ],
   "id": "18d8fadf38d2ce23"
  },
  {
   "metadata": {},
   "cell_type": "code",
   "source": "Q10",
   "id": "34aabc59cd5a3665",
   "outputs": [],
   "execution_count": null
  },
  {
   "metadata": {},
   "cell_type": "markdown",
   "source": [
    "<strong>Question 11</strong>\n",
    "\n",
    "Which of the following code snippets is related to operator\n",
    "overloading:\n",
    "\n",
    "A. \\_\\_eq\\_\\_\n",
    "\n",
    "B. @property\n",
    "\n",
    "C. \\_\\_init\\_\\_\n",
    "\n",
    "D. None of the alternatives\n",
    "\n",
    "<strong>Answer</strong>"
   ],
   "id": "c71ec2720096d9f8"
  },
  {
   "metadata": {},
   "cell_type": "code",
   "source": "Q11",
   "id": "5a43b7e63e625410",
   "outputs": [],
   "execution_count": null
  },
  {
   "metadata": {},
   "cell_type": "markdown",
   "source": [
    "<strong>Question 12</strong>\n",
    "\n",
    "Assuming a class C with no parent or derived class. Methods of the class C that receive the information about the object (throught self) can access:\n",
    "\n",
    "A. public attributes of the object, but not protected\n",
    "\n",
    "B. Any class variables and data attributes of the object\n",
    "\n",
    "C. Any data attributes of the object\n",
    "\n",
    "D. public and protected attributes of the object, but not private\n",
    "\n",
    "<strong>Answer</strong>"
   ],
   "id": "fb01f8253ab41516"
  },
  {
   "metadata": {
    "ExecuteTime": {
     "end_time": "2025-04-02T10:08:43.055649Z",
     "start_time": "2025-04-02T10:08:43.046815Z"
    }
   },
   "cell_type": "code",
   "source": "Q12",
   "id": "26395d5f4e44f815",
   "outputs": [
    {
     "data": {
      "text/plain": [
       "'C. Since there are no superclasses (in which case we could only access public and protected attributes, but not private of the superclass) we can access everything!'"
      ]
     },
     "execution_count": 11,
     "metadata": {},
     "output_type": "execute_result"
    }
   ],
   "execution_count": 11
  },
  {
   "metadata": {},
   "cell_type": "markdown",
   "source": [
    "<strong>Question 13</strong>\n",
    "\n",
    "Class methods:\n",
    "\n",
    "A. Can access class variables in addition to public attributes of the\n",
    "object\n",
    "\n",
    "B. Can access any class variables but no data attributes of the object\n",
    "\n",
    "C. Can access any data attributes of the object\n",
    "\n",
    "D. None of the alternatives\n",
    "\n",
    "<strong>Answer</strong>"
   ],
   "id": "408e0c3c3c567d6"
  },
  {
   "metadata": {},
   "cell_type": "code",
   "source": "Q13",
   "id": "3f4c0775087d0a36",
   "outputs": [],
   "execution_count": null
  },
  {
   "metadata": {},
   "cell_type": "markdown",
   "source": [
    "<strong>Question 14</strong>\n",
    "\n",
    "Class inheritance allows derived classes to:\n",
    "\n",
    "A. Access public data attributes of the base class, but not private\n",
    "Page 5 of 10 or protected ones\n",
    "\n",
    "B. Access public data attributes of the object, but not public methods\n",
    "\n",
    "C. Access public data attributes and methods of the object, but not\n",
    "private ones\n",
    "\n",
    "D. None of the alternatives\n",
    "\n",
    "<strong>Answer</strong>"
   ],
   "id": "82fb686e8b2db198"
  },
  {
   "metadata": {},
   "cell_type": "code",
   "source": "Q14",
   "id": "b63d8f17f3f69ed",
   "outputs": [],
   "execution_count": null
  },
  {
   "metadata": {},
   "cell_type": "markdown",
   "source": [
    "<strong>Question 15</strong>\n",
    "\n",
    "The concept of method overriding can be best defined by:\n",
    "\n",
    "A. ”Isolating different responsibilities of a program from each other”\n",
    "\n",
    "B. ”Using encapsulation to hide elements that should not be accessed by other elements of the application”\n",
    "\n",
    "C. ”Base the implementation of a new class on previously defined\n",
    "classes, keeping some implementation and functionality”\n",
    "\n",
    "D. ”Provide specific implementations of a method that is already\n",
    "provided by a parent class”\n",
    "\n",
    "<strong>Answer</strong>"
   ],
   "id": "ef323925adfa2d88"
  },
  {
   "metadata": {},
   "cell_type": "code",
   "source": "Q15",
   "id": "8e13b5ba5dc522df",
   "outputs": [],
   "execution_count": null
  },
  {
   "metadata": {},
   "cell_type": "markdown",
   "source": [
    "<strong>Question 16</strong>\n",
    "\n",
    "Public attributes:\n",
    "\n",
    "A. Can be accessed internally by the instance of the class and by\n",
    "derived classes\n",
    "\n",
    "B. Can be accessed internally by the class, but not by derived\n",
    "classes\n",
    "\n",
    "C. Can be accessed even without an instance of the class\n",
    "\n",
    "D. None of the alternatives\n",
    "\n",
    "\n",
    "<strong>Answer</strong>"
   ],
   "id": "3da0a0d34c5b0863"
  },
  {
   "metadata": {},
   "cell_type": "code",
   "source": "Q16",
   "id": "1ea82eb850d4c74a",
   "outputs": [],
   "execution_count": null
  }
 ],
 "metadata": {
  "kernelspec": {
   "display_name": "Python 3",
   "language": "python",
   "name": "python3"
  },
  "language_info": {
   "codemirror_mode": {
    "name": "ipython",
    "version": 2
   },
   "file_extension": ".py",
   "mimetype": "text/x-python",
   "name": "python",
   "nbconvert_exporter": "python",
   "pygments_lexer": "ipython2",
   "version": "2.7.6"
  }
 },
 "nbformat": 4,
 "nbformat_minor": 5
}
